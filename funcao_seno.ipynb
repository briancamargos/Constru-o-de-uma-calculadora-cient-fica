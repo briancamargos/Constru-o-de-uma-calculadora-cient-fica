{
 "cells": [
  {
   "cell_type": "code",
   "execution_count": 2,
   "metadata": {},
   "outputs": [],
   "source": [
    "#O método usado para calcular o seno, foi série de taylor\n",
    "\n",
    "def seno(graus = float): # a função será montada presupondo que o angulo \"a\" de entrada está em graus.\n",
    "    \n",
    "    rads = (graus*3.141592653)/180 #conversão de graus para radiano\n",
    "    \n",
    "    termo_n = rads + 0.001    #esse 0.001 é para evitar erro caso a pessoa entre com \"0 graus\" como valor\n",
    "    aux1 = 1                  #conta a posição do termo para saber se é uma soma ou subtração no somatorio\n",
    "    aux2 = 1                  #usado na formula da série de taylor\n",
    "    while (termo_n >= 0.001): #Faz o calculo até um dos termos n da série ser menor que 0.001\n",
    "        \n",
    "        i = 1                 #calculo do fatorial de aux2\n",
    "        fatorial = 1\n",
    "        while (i <= aux2): \n",
    "            fatorial *= i\n",
    "            i += 1\n",
    "\n",
    "        termo_n = (rads**aux2)/fatorial  #calculo do termo n da serie taylor\n",
    "        \n",
    "        if (aux1 == 1):\n",
    "            seno = rads                  #o primeiro termo\n",
    "        elif (aux1 %2 == 0):\n",
    "            seno = seno - termo_n        #o somatorio dos termos n pares\n",
    "        else:\n",
    "            seno = seno + termo_n        #o somatorio dos termos n impares\n",
    "        \n",
    "        aux1 += 1\n",
    "        aux2 += 2\n",
    "    \n",
    "    seno = round(seno,4)                 #arrendondamento para 4 casas decimais\n",
    "    return seno\n",
    "            \n",
    "    \n",
    "\n",
    "    "
   ]
  },
  {
   "cell_type": "code",
   "execution_count": 3,
   "metadata": {},
   "outputs": [
    {
     "data": {
      "text/plain": [
       "0.0"
      ]
     },
     "execution_count": 3,
     "metadata": {},
     "output_type": "execute_result"
    }
   ],
   "source": [
    "seno(0)"
   ]
  }
 ],
 "metadata": {
  "kernelspec": {
   "display_name": "Python 3.10.7 64-bit",
   "language": "python",
   "name": "python3"
  },
  "language_info": {
   "codemirror_mode": {
    "name": "ipython",
    "version": 3
   },
   "file_extension": ".py",
   "mimetype": "text/x-python",
   "name": "python",
   "nbconvert_exporter": "python",
   "pygments_lexer": "ipython3",
   "version": "3.10.7"
  },
  "orig_nbformat": 4,
  "vscode": {
   "interpreter": {
    "hash": "8e422274af7bea950b99ce5931db79f336f723780200fdaaaa6fd2c62e737577"
   }
  }
 },
 "nbformat": 4,
 "nbformat_minor": 2
}
