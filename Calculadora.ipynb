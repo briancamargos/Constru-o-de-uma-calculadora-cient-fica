{
 "cells": [
  {
   "cell_type": "code",
   "execution_count": 10,
   "metadata": {},
   "outputs": [
    {
     "name": "stdout",
     "output_type": "stream",
     "text": [
      "1\n",
      "12\n",
      "125\n",
      "1254\n",
      "12548\n",
      "125488\n",
      "\n",
      "6\n",
      "66\n",
      "666\n",
      "6666\n",
      "666\n",
      "66\n",
      "6\n",
      "\n",
      "3\n",
      "32\n",
      "325\n",
      "3254\n",
      "32541\n",
      "325417\n",
      "3254178\n",
      "32541788\n",
      "325417888\n",
      "\n",
      "\n"
     ]
    }
   ],
   "source": [
    "import PySimpleGUI as sg\n",
    "\n",
    "sg.theme('Dark Blue 3')   # Tema da GUI\n",
    "\n",
    "# Coisas e itens dentro da janela.\n",
    "layout =    [  \n",
    "            [sg.Text('    ',key ='-tela-', size = (20, 5), background_color = 'black', enable_events = True)],\n",
    "            [sg.Button('1', size = (6, 3)), sg.Button('2', size = (6, 3)), sg.Button('3', size = (6, 3)), sg.Button('Apagar', size = (6, 3)), sg.Button('+', size = (6, 3)), sg.Button('-', size = (6, 3)), sg.Button('x', size = (6, 3)), sg.Button('/', size = (6, 3))],\n",
    "            [sg.Button('4', size = (6, 3)), sg.Button('5', size = (6, 3)), sg.Button('6', size = (6, 3)), sg.Button('Limpar', size = (6, 3)), sg.Button('potencia', size = (6, 3)), sg.Button('raiz', size = (6, 3))],\n",
    "            [sg.Button('7', size = (6, 3)), sg.Button('8', size = (6, 3)), sg.Button('9', size = (6, 3)), sg.Button(',', size = (6, 3)), sg.Button('seno', size = (6, 3)), sg.Button('cosseno', size = (6, 3)), sg.Button('tangente', size = (6, 3))], \n",
    "            [sg.Button('0', size = (6, 3)), sg.Button('=', size = (15, 3))] \n",
    "            ]\n",
    "\n",
    "# Cria a janela\n",
    "window = sg.Window('CALCULADORA', layout)\n",
    "\n",
    "# Loop que registra os eventos na janela e registra os inputs e tal\n",
    "\n",
    "Entradas_Operacoes = []\n",
    "Aux1 = 0\n",
    "while True:\n",
    "    \n",
    "    event, values = window.read()      #Lê os eventos e os valores a cada loop\n",
    "    \n",
    "    if event == sg.WIN_CLOSED:         #termina o loop quando o usuario fecha a janela\n",
    "        break\n",
    "    \n",
    "    # registra os botões da calculadora\n",
    "    if event == '1':\n",
    "        Entradas_Operacoes.append('1')\n",
    "    elif event == '2':\n",
    "        Entradas_Operacoes.append('2')\n",
    "    elif event == '3':\n",
    "        Entradas_Operacoes.append('3')\n",
    "    elif event == '4':\n",
    "        Entradas_Operacoes.append('4')\n",
    "    elif event == '5':\n",
    "        Entradas_Operacoes.append('5')\n",
    "    elif event == '6':\n",
    "        Entradas_Operacoes.append('6')\n",
    "    elif event == '7':\n",
    "        Entradas_Operacoes.append('7')\n",
    "    elif event == '8':\n",
    "        Entradas_Operacoes.append('8')\n",
    "    elif event == '9':\n",
    "        Entradas_Operacoes.append('9')    \n",
    "    elif event == '0':\n",
    "        Entradas_Operacoes.append('0')\n",
    "    elif event == 'Apagar':\n",
    "        Entradas_Operacoes.pop() \n",
    "    elif event == 'Limpar':\n",
    "        Entradas_Operacoes = []\n",
    "    elif event == ',':\n",
    "        Entradas_Operacoes.append(',')\n",
    "    \n",
    "    TELA = ''.join(Entradas_Operacoes)\n",
    "    window['-tela-'].update(TELA)\n",
    "    print(TELA)\n",
    "\n",
    "window.close()"
   ]
  }
 ],
 "metadata": {
  "kernelspec": {
   "display_name": "Python 3.10.7 64-bit",
   "language": "python",
   "name": "python3"
  },
  "language_info": {
   "codemirror_mode": {
    "name": "ipython",
    "version": 3
   },
   "file_extension": ".py",
   "mimetype": "text/x-python",
   "name": "python",
   "nbconvert_exporter": "python",
   "pygments_lexer": "ipython3",
   "version": "3.10.7"
  },
  "orig_nbformat": 4,
  "vscode": {
   "interpreter": {
    "hash": "8e422274af7bea950b99ce5931db79f336f723780200fdaaaa6fd2c62e737577"
   }
  }
 },
 "nbformat": 4,
 "nbformat_minor": 2
}
