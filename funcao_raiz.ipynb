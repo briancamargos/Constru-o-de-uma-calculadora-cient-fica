{
 "cells": [
  {
   "cell_type": "code",
   "execution_count": null,
   "metadata": {},
   "outputs": [],
   "source": [
    "def Raiz(A,B) # A > Radicando / número que será extraido a raiz\n",
    "        \t  # B > índice\n",
    "        Resultado =  A ** (1/B)\n",
    "        return Resultado"
   ]
  }
 ],
 "metadata": {
  "language_info": {
   "name": "python"
  },
  "orig_nbformat": 4
 },
 "nbformat": 4,
 "nbformat_minor": 2
}
