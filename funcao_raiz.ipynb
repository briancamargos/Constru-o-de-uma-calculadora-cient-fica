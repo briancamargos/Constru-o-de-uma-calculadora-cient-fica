{
 "cells": [
  {
   "cell_type": "code",
   "execution_count": 4,
   "metadata": {},
   "outputs": [],
   "source": [
    "def Raiz(A:float,B:float): # A > Radicando / número que será extraido a raiz\n",
    "        \t   # B > índice\n",
    "        if B == 0:\n",
    "            Resultado = \"ERRO\"\n",
    "        else:    \n",
    "            Resultado =  A ** (1/B)\n",
    "        return Resultado"
   ]
  },
  {
   "cell_type": "code",
   "execution_count": 5,
   "metadata": {},
   "outputs": [
    {
     "data": {
      "text/plain": [
       "'ERRO'"
      ]
     },
     "execution_count": 5,
     "metadata": {},
     "output_type": "execute_result"
    }
   ],
   "source": [
    "Raiz(2,0)"
   ]
  }
 ],
 "metadata": {
  "kernelspec": {
   "display_name": "Python 3.10.7 64-bit",
   "language": "python",
   "name": "python3"
  },
  "language_info": {
   "codemirror_mode": {
    "name": "ipython",
    "version": 3
   },
   "file_extension": ".py",
   "mimetype": "text/x-python",
   "name": "python",
   "nbconvert_exporter": "python",
   "pygments_lexer": "ipython3",
   "version": "3.10.7"
  },
  "orig_nbformat": 4,
  "vscode": {
   "interpreter": {
    "hash": "8e422274af7bea950b99ce5931db79f336f723780200fdaaaa6fd2c62e737577"
   }
  }
 },
 "nbformat": 4,
 "nbformat_minor": 2
}
