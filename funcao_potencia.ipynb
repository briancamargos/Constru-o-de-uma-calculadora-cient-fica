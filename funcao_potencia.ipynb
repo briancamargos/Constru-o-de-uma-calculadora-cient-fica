{
 "cells": [
  {
   "cell_type": "code",
   "execution_count": null,
   "metadata": {},
   "outputs": [],
   "source": [
    "def Potencia(a,b):\n",
    "    Resultado = a**b\n",
    "    return Resultado"
   ]
  }
 ],
 "metadata": {
  "kernelspec": {
   "display_name": "Python 3.10.7 64-bit",
   "language": "python",
   "name": "python3"
  },
  "language_info": {
   "name": "python",
   "version": "3.10.7"
  },
  "orig_nbformat": 4,
  "vscode": {
   "interpreter": {
    "hash": "8e422274af7bea950b99ce5931db79f336f723780200fdaaaa6fd2c62e737577"
   }
  }
 },
 "nbformat": 4,
 "nbformat_minor": 2
}
