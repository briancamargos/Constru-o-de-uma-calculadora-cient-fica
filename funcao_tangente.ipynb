{
 "cells": [
  {
   "cell_type": "code",
   "execution_count": 22,
   "metadata": {},
   "outputs": [],
   "source": [
    "#O método usado para calcular o tangente, foi série de taylor\n",
    "\n",
    "def tangente(graus = float):          \n",
    "    from seno.py import seno\n",
    "    from cosseno.py import cosseno\n",
    "    tangente = seno(graus)/cosseno(graus)\n",
    "   \n",
    "    tangente = round(tangente,4)                 #arrendondamento para 4 casas decimais\n",
    "    return tangente"
   ]
  },
  {
   "cell_type": "code",
   "execution_count": 21,
   "metadata": {},
   "outputs": [
    {
     "ename": "ModuleNotFoundError",
     "evalue": "No module named 'funcao_seno.py'; 'funcao_seno' is not a package",
     "output_type": "error",
     "traceback": [
      "\u001b[1;31m---------------------------------------------------------------------------\u001b[0m",
      "\u001b[1;31mModuleNotFoundError\u001b[0m                       Traceback (most recent call last)",
      "Cell \u001b[1;32mIn [21], line 1\u001b[0m\n\u001b[1;32m----> 1\u001b[0m tangente(\u001b[39m30\u001b[39;49m)\n",
      "Cell \u001b[1;32mIn [20], line 4\u001b[0m, in \u001b[0;36mtangente\u001b[1;34m(graus)\u001b[0m\n\u001b[0;32m      3\u001b[0m \u001b[39mdef\u001b[39;00m \u001b[39mtangente\u001b[39m(graus \u001b[39m=\u001b[39m \u001b[39mfloat\u001b[39m):          \n\u001b[1;32m----> 4\u001b[0m     \u001b[39mfrom\u001b[39;00m \u001b[39mfuncao_seno\u001b[39;00m\u001b[39m.\u001b[39;00m\u001b[39mpy\u001b[39;00m \u001b[39mimport\u001b[39;00m seno\n\u001b[0;32m      5\u001b[0m     \u001b[39mfrom\u001b[39;00m \u001b[39mfuncao_cosseno\u001b[39;00m\u001b[39m.\u001b[39;00m\u001b[39mpy\u001b[39;00m \u001b[39mimport\u001b[39;00m cosseno\n\u001b[0;32m      6\u001b[0m     tangente \u001b[39m=\u001b[39m seno(graus)\u001b[39m/\u001b[39mcosseno(graus)\n",
      "\u001b[1;31mModuleNotFoundError\u001b[0m: No module named 'funcao_seno.py'; 'funcao_seno' is not a package"
     ]
    }
   ],
   "source": [
    "tangente(30)"
   ]
  }
 ],
 "metadata": {
  "kernelspec": {
   "display_name": "Python 3.10.7 64-bit",
   "language": "python",
   "name": "python3"
  },
  "language_info": {
   "codemirror_mode": {
    "name": "ipython",
    "version": 3
   },
   "file_extension": ".py",
   "mimetype": "text/x-python",
   "name": "python",
   "nbconvert_exporter": "python",
   "pygments_lexer": "ipython3",
   "version": "3.10.7"
  },
  "orig_nbformat": 4,
  "vscode": {
   "interpreter": {
    "hash": "8e422274af7bea950b99ce5931db79f336f723780200fdaaaa6fd2c62e737577"
   }
  }
 },
 "nbformat": 4,
 "nbformat_minor": 2
}
