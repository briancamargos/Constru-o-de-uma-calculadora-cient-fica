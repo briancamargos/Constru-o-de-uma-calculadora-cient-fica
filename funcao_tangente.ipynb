{
 "cells": [
  {
   "cell_type": "code",
   "execution_count": 3,
   "metadata": {},
   "outputs": [],
   "source": [
    "#O método usado para calcular o tangente, foi série de taylor\n",
    "\n",
    "def Tangente(graus:float):          \n",
    "    from seno import Seno\n",
    "    from cosseno import Cosseno\n",
    "\n",
    "    if Cosseno(graus) == 0:\n",
    "        return 'Erro, tangente tendendo ao infinito'\n",
    "    else:\n",
    "\n",
    "        tangente = Seno(graus)/Cosseno(graus)\n",
    "    \n",
    "        tangente = round(tangente,1)                 #arrendondamento para 1 casa decimal, precisão para valores proximos de 89 graus fica baixa, \n",
    "                                                    #então acaba não fazendo sentido usar mais casas décimais\n",
    "        return tangente                              "
   ]
  },
  {
   "cell_type": "code",
   "execution_count": 5,
   "metadata": {},
   "outputs": [
    {
     "data": {
      "text/plain": [
       "57.1"
      ]
     },
     "execution_count": 5,
     "metadata": {},
     "output_type": "execute_result"
    }
   ],
   "source": [
    "Tangente(89)"
   ]
  }
 ],
 "metadata": {
  "kernelspec": {
   "display_name": "Python 3.10.7 64-bit",
   "language": "python",
   "name": "python3"
  },
  "language_info": {
   "codemirror_mode": {
    "name": "ipython",
    "version": 3
   },
   "file_extension": ".py",
   "mimetype": "text/x-python",
   "name": "python",
   "nbconvert_exporter": "python",
   "pygments_lexer": "ipython3",
   "version": "3.10.7"
  },
  "orig_nbformat": 4,
  "vscode": {
   "interpreter": {
    "hash": "8e422274af7bea950b99ce5931db79f336f723780200fdaaaa6fd2c62e737577"
   }
  }
 },
 "nbformat": 4,
 "nbformat_minor": 2
}
