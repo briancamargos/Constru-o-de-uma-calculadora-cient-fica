{
 "cells": [
  {
   "cell_type": "code",
   "execution_count": 28,
   "metadata": {},
   "outputs": [],
   "source": [
    "#O método usado para calcular o tangente, foi série de taylor\n",
    "\n",
    "def tangente(graus = float):          \n",
    "    from seno import seno\n",
    "    from cosseno import cosseno\n",
    "    tangente = seno(graus)/cosseno(graus)\n",
    "   \n",
    "    tangente = round(tangente,4)                 #arrendondamento para 4 casas decimais\n",
    "    return tangente"
   ]
  },
  {
   "cell_type": "code",
   "execution_count": 29,
   "metadata": {},
   "outputs": [
    {
     "ename": "ModuleNotFoundError",
     "evalue": "No module named 'cosseno'",
     "output_type": "error",
     "traceback": [
      "\u001b[1;31m---------------------------------------------------------------------------\u001b[0m",
      "\u001b[1;31mModuleNotFoundError\u001b[0m                       Traceback (most recent call last)",
      "Cell \u001b[1;32mIn [29], line 1\u001b[0m\n\u001b[1;32m----> 1\u001b[0m tangente(\u001b[39m30\u001b[39;49m)\n",
      "Cell \u001b[1;32mIn [28], line 5\u001b[0m, in \u001b[0;36mtangente\u001b[1;34m(graus)\u001b[0m\n\u001b[0;32m      3\u001b[0m \u001b[39mdef\u001b[39;00m \u001b[39mtangente\u001b[39m(graus \u001b[39m=\u001b[39m \u001b[39mfloat\u001b[39m):          \n\u001b[0;32m      4\u001b[0m     \u001b[39mfrom\u001b[39;00m \u001b[39mseno\u001b[39;00m \u001b[39mimport\u001b[39;00m seno\n\u001b[1;32m----> 5\u001b[0m     \u001b[39mfrom\u001b[39;00m \u001b[39mcosseno\u001b[39;00m \u001b[39mimport\u001b[39;00m cosseno\n\u001b[0;32m      6\u001b[0m     tangente \u001b[39m=\u001b[39m seno(graus)\u001b[39m/\u001b[39mcosseno(graus)\n\u001b[0;32m      8\u001b[0m     tangente \u001b[39m=\u001b[39m \u001b[39mround\u001b[39m(tangente,\u001b[39m4\u001b[39m)                 \u001b[39m#arrendondamento para 4 casas decimais\u001b[39;00m\n",
      "\u001b[1;31mModuleNotFoundError\u001b[0m: No module named 'cosseno'"
     ]
    }
   ],
   "source": [
    "tangente(30)"
   ]
  }
 ],
 "metadata": {
  "kernelspec": {
   "display_name": "Python 3.10.7 64-bit",
   "language": "python",
   "name": "python3"
  },
  "language_info": {
   "codemirror_mode": {
    "name": "ipython",
    "version": 3
   },
   "file_extension": ".py",
   "mimetype": "text/x-python",
   "name": "python",
   "nbconvert_exporter": "python",
   "pygments_lexer": "ipython3",
   "version": "3.10.7"
  },
  "orig_nbformat": 4,
  "vscode": {
   "interpreter": {
    "hash": "8e422274af7bea950b99ce5931db79f336f723780200fdaaaa6fd2c62e737577"
   }
  }
 },
 "nbformat": 4,
 "nbformat_minor": 2
}
