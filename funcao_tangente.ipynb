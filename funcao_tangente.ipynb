{
 "cells": [
  {
   "cell_type": "code",
   "execution_count": 8,
   "metadata": {},
   "outputs": [],
   "source": [
    "#O método usado para calcular o tangente, foi série de taylor\n",
    "\n",
    "def tangente(graus = float):          \n",
    "    from seno import seno\n",
    "    from cosseno import cosseno\n",
    "\n",
    "    tangente = seno(graus)/cosseno(graus)\n",
    "   \n",
    "    tangente = round(tangente,1)                 #arrendondamento para 1 casa decimal, precisão para valores proximos de 89 graus fica baixa, \n",
    "                                                 #então acaba não fazendo sentido usar mais casas décimais\n",
    "    return tangente                              "
   ]
  },
  {
   "cell_type": "code",
   "execution_count": 11,
   "metadata": {},
   "outputs": [
    {
     "data": {
      "text/plain": [
       "-0.6"
      ]
     },
     "execution_count": 11,
     "metadata": {},
     "output_type": "execute_result"
    }
   ],
   "source": [
    "tangente(150)"
   ]
  }
 ],
 "metadata": {
  "kernelspec": {
   "display_name": "Python 3.10.7 64-bit",
   "language": "python",
   "name": "python3"
  },
  "language_info": {
   "codemirror_mode": {
    "name": "ipython",
    "version": 3
   },
   "file_extension": ".py",
   "mimetype": "text/x-python",
   "name": "python",
   "nbconvert_exporter": "python",
   "pygments_lexer": "ipython3",
   "version": "3.10.7"
  },
  "orig_nbformat": 4,
  "vscode": {
   "interpreter": {
    "hash": "8e422274af7bea950b99ce5931db79f336f723780200fdaaaa6fd2c62e737577"
   }
  }
 },
 "nbformat": 4,
 "nbformat_minor": 2
}
