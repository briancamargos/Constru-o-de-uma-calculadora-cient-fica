{
 "cells": [
  {
   "cell_type": "code",
   "execution_count": null,
   "metadata": {},
   "outputs": [],
   "source": [
    "# encontra as raízes de uma equação, retorna os valores das raízes usando o método de bhaskara\n",
    "def raizequacao(a,b,c): #pensei aqui em pedir os indices a,b,c da equação para usar a formula\n",
    "    \n",
    "    delta = b**2 - 4*a*c\n",
    "    \n",
    "    if (delta > 0):\n",
    "        delta = delta**(1/2) \n",
    "        x1 = (-b + delta)/2*a\n",
    "        x2 = (-b - delta)/2*a\n",
    "        return x1,x2\n",
    "\n",
    "    elif (delta == 0):\n",
    "        x1 = (-b)/2*a\n",
    "        x2 = x1\n",
    "        return x1,x2\n",
    "    else: #caso delta seja menor que 0, não haverá raízes reais\n",
    "        return \"erro\" #pensar aqui como retornar esse erro\n",
    "\n"
   ]
  }
 ],
 "metadata": {
  "kernelspec": {
   "display_name": "Python 3.10.7 64-bit",
   "language": "python",
   "name": "python3"
  },
  "language_info": {
   "name": "python",
   "version": "3.10.7"
  },
  "orig_nbformat": 4,
  "vscode": {
   "interpreter": {
    "hash": "8e422274af7bea950b99ce5931db79f336f723780200fdaaaa6fd2c62e737577"
   }
  }
 },
 "nbformat": 4,
 "nbformat_minor": 2
}
